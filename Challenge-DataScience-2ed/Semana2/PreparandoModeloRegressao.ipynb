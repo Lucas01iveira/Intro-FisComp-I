{
  "nbformat": 4,
  "nbformat_minor": 0,
  "metadata": {
    "colab": {
      "provenance": [],
      "authorship_tag": "ABX9TyOW300weettEUNr60g0Rabz"
    },
    "kernelspec": {
      "name": "python3",
      "display_name": "Python 3"
    },
    "language_info": {
      "name": "python"
    }
  },
  "cells": [
    {
      "cell_type": "markdown",
      "source": [
        "## Preparação do ambiente\n",
        "\n",
        "- Definição da sessão spark\n",
        "- Conexão com o Drive"
      ],
      "metadata": {
        "id": "9xPhrB_AHN4I"
      }
    },
    {
      "cell_type": "code",
      "source": [
        "!pip install pyspark"
      ],
      "metadata": {
        "colab": {
          "base_uri": "https://localhost:8080/"
        },
        "id": "LY3vtbzoHSwO",
        "outputId": "7956e59b-9c4c-426f-9754-dbf021474d63"
      },
      "execution_count": 281,
      "outputs": [
        {
          "output_type": "stream",
          "name": "stdout",
          "text": [
            "Looking in indexes: https://pypi.org/simple, https://us-python.pkg.dev/colab-wheels/public/simple/\n",
            "Requirement already satisfied: pyspark in /usr/local/lib/python3.8/dist-packages (3.3.2)\n",
            "Requirement already satisfied: py4j==0.10.9.5 in /usr/local/lib/python3.8/dist-packages (from pyspark) (0.10.9.5)\n"
          ]
        }
      ]
    },
    {
      "cell_type": "code",
      "source": [
        "from pyspark.sql import SparkSession\n",
        "\n",
        "spark = SparkSession.builder\\\n",
        "                    .master('local[*]')\\\n",
        "                    .appName('Challenge DataScience - 2 Ed')\\\n",
        "                    .getOrCreate()\n",
        "spark"
      ],
      "metadata": {
        "colab": {
          "base_uri": "https://localhost:8080/",
          "height": 0
        },
        "id": "BJbzSwPJHUZb",
        "outputId": "cac0675c-e352-4a65-ea84-8dfb6ba0a722"
      },
      "execution_count": 282,
      "outputs": [
        {
          "output_type": "execute_result",
          "data": {
            "text/plain": [
              "<pyspark.sql.session.SparkSession at 0x7f0630cb74f0>"
            ],
            "text/html": [
              "\n",
              "            <div>\n",
              "                <p><b>SparkSession - in-memory</b></p>\n",
              "                \n",
              "        <div>\n",
              "            <p><b>SparkContext</b></p>\n",
              "\n",
              "            <p><a href=\"http://177a69ce9c42:4040\">Spark UI</a></p>\n",
              "\n",
              "            <dl>\n",
              "              <dt>Version</dt>\n",
              "                <dd><code>v3.3.2</code></dd>\n",
              "              <dt>Master</dt>\n",
              "                <dd><code>local[*]</code></dd>\n",
              "              <dt>AppName</dt>\n",
              "                <dd><code>Challenge DataScience - 2 Ed</code></dd>\n",
              "            </dl>\n",
              "        </div>\n",
              "        \n",
              "            </div>\n",
              "        "
            ]
          },
          "metadata": {},
          "execution_count": 282
        }
      ]
    },
    {
      "cell_type": "code",
      "source": [
        "from google.colab import drive \n",
        "drive.mount('my-drive')"
      ],
      "metadata": {
        "colab": {
          "base_uri": "https://localhost:8080/"
        },
        "id": "Zyb4ShSWHlQ0",
        "outputId": "ee2894a6-0ec2-4abd-c506-61446f5daf7b"
      },
      "execution_count": 283,
      "outputs": [
        {
          "output_type": "stream",
          "name": "stdout",
          "text": [
            "Drive already mounted at my-drive; to attempt to forcibly remount, call drive.mount(\"my-drive\", force_remount=True).\n"
          ]
        }
      ]
    },
    {
      "cell_type": "markdown",
      "source": [
        "## Manipulações iniciais da base já tratada\n",
        "  - A partir do dataset já inicialmente tratado a partir do conjunto de dados bruto fornecido no início do projeto, o objetivo será efetuar algumas manipulações básicas (essenciais para os métodos de Machine Learning) e iniciar a construção do modelo de regressão"
      ],
      "metadata": {
        "id": "6q_qFc9GGYb2"
      }
    },
    {
      "cell_type": "code",
      "execution_count": 284,
      "metadata": {
        "id": "Vpm-I_n4EDhK"
      },
      "outputs": [],
      "source": [
        "# começo retomando a base de dados tratados construída anteriormente;\n",
        "# comparo a base tratada fornecida pelos instrutores da alura com a base construída por mim\n",
        "# para validação de resultados\n",
        "\n",
        "df = spark.read.parquet(\n",
        "    '/content/my-drive/MyDrive/Formações Alura/DataScience/Challenge-2ed/dados-e-arquivos-tratados/dataset-tratado/parquet'\n",
        ")\n"
      ]
    },
    {
      "cell_type": "code",
      "source": [
        "df.show(5)"
      ],
      "metadata": {
        "colab": {
          "base_uri": "https://localhost:8080/"
        },
        "id": "ZEf46Zw-IKjf",
        "outputId": "aaece936-c6d8-4fbe-dd1b-f8b00ba3cb33"
      },
      "execution_count": 285,
      "outputs": [
        {
          "output_type": "stream",
          "name": "stdout",
          "text": [
            "+--------------------+------------+------------+-----------+----------+---------+-------+------+---------+----+-----+--------------------+---------+----------+----------+----+-----+-----+\n",
            "|                  id|tipo_anuncio|tipo_unidade|   tipo_uso|area_total|area_util|quartos|suites|banheiros|vaga|andar|     caracteristicas|   bairro|      zona|condominio|iptu| tipo|valor|\n",
            "+--------------------+------------+------------+-----------+----------+---------+-------+------+---------+----+-----+--------------------+---------+----------+----------+----+-----+-----+\n",
            "|d2e3a3aa-09b5-45a...|       Usado| Apartamento|Residencial|        43|       43|      2|  null|        1|   1|    3|[Academia, Churra...|Paciência|Zona Oeste|       245|null|Venda|15000|\n",
            "|085bab2c-87ad-452...|       Usado| Apartamento|Residencial|        42|       42|      2|  null|        1|   1|    2|[Churrasqueira, P...|Paciência|Zona Oeste|         0|   0|Venda|15000|\n",
            "|18d22cbe-1b86-476...|       Usado| Apartamento|Residencial|        41|       41|      2|  null|        1|   1|    1|[Portaria 24h, Co...|Guaratiba|Zona Oeste|         0|   0|Venda|20000|\n",
            "|bed8a354-9317-442...|       Usado| Apartamento|Residencial|        43|       43|      2|  null|        1|   0|    3|[Churrasqueira, P...|   Cosmos|Zona Oeste|       285|null|Venda|20000|\n",
            "|12a13315-d67f-48f...|       Usado| Apartamento|Residencial|        43|       43|      2|  null|        1|   1|    2|[Academia, Churra...|Guaratiba|Zona Oeste|       245|null|Venda|15000|\n",
            "+--------------------+------------+------------+-----------+----------+---------+-------+------+---------+----+-----+--------------------+---------+----------+----------+----+-----+-----+\n",
            "only showing top 5 rows\n",
            "\n"
          ]
        }
      ]
    },
    {
      "cell_type": "code",
      "source": [
        "df.count()"
      ],
      "metadata": {
        "colab": {
          "base_uri": "https://localhost:8080/"
        },
        "id": "RRl7Q1uloFZ-",
        "outputId": "c510bd74-291c-4a66-97e7-6577aaef88c8"
      },
      "execution_count": 286,
      "outputs": [
        {
          "output_type": "execute_result",
          "data": {
            "text/plain": [
              "66348"
            ]
          },
          "metadata": {},
          "execution_count": 286
        }
      ]
    },
    {
      "cell_type": "code",
      "source": [
        "df.printSchema()"
      ],
      "metadata": {
        "colab": {
          "base_uri": "https://localhost:8080/"
        },
        "id": "2awIk_6oIRvE",
        "outputId": "c5409eb5-3934-4834-8823-7b8a56cb3534"
      },
      "execution_count": 287,
      "outputs": [
        {
          "output_type": "stream",
          "name": "stdout",
          "text": [
            "root\n",
            " |-- id: string (nullable = true)\n",
            " |-- tipo_anuncio: string (nullable = true)\n",
            " |-- tipo_unidade: string (nullable = true)\n",
            " |-- tipo_uso: string (nullable = true)\n",
            " |-- area_total: long (nullable = true)\n",
            " |-- area_util: long (nullable = true)\n",
            " |-- quartos: long (nullable = true)\n",
            " |-- suites: long (nullable = true)\n",
            " |-- banheiros: long (nullable = true)\n",
            " |-- vaga: long (nullable = true)\n",
            " |-- andar: long (nullable = true)\n",
            " |-- caracteristicas: array (nullable = true)\n",
            " |    |-- element: string (containsNull = true)\n",
            " |-- bairro: string (nullable = true)\n",
            " |-- zona: string (nullable = true)\n",
            " |-- condominio: long (nullable = true)\n",
            " |-- iptu: long (nullable = true)\n",
            " |-- tipo: string (nullable = true)\n",
            " |-- valor: long (nullable = true)\n",
            "\n"
          ]
        }
      ]
    },
    {
      "cell_type": "markdown",
      "source": [
        "- De acordo com o Schema observado, as primeiras manipulações que estaremos interessados em fazer ocorrem com respeito aos datatypes de cada coluna.\n",
        "  - As colunas \"andar\", \"banheiros\", \"suites\" e \"quartos\" estão registradas como LongInt. A princípio, para esses casos, apenas o IntegerType já é suficiente.\n",
        "\n",
        "  - As colunas \"area_util\", \"condominio\", \"iptu\" e \"valor\", por outro lado, devem ficar registradas com o tipo DoubleType."
      ],
      "metadata": {
        "id": "tUwePMBsSr8m"
      }
    },
    {
      "cell_type": "code",
      "source": [
        "from pyspark.sql import functions as f \n",
        "from pyspark.sql.types import DoubleType, IntegerType\n",
        "\n",
        "columns_to_set_DoubleType = ['area_util', 'condominio', 'iptu', 'valor']\n",
        "columns_to_set_IntegerType = ['andar', 'banheiros', 'suites', 'quartos']\n",
        "\n",
        "for c in columns_to_set_DoubleType:\n",
        "  df = df.withColumn(c, f.col(c).cast(DoubleType()))\n",
        "\n",
        "for c in columns_to_set_IntegerType:\n",
        "  df = df.withColumn(c, f.col(c).cast(IntegerType()))\n",
        "\n",
        "df.printSchema()"
      ],
      "metadata": {
        "colab": {
          "base_uri": "https://localhost:8080/"
        },
        "id": "K04StvPRUa81",
        "outputId": "15ea99c5-8462-462b-9446-746e8cea7d75"
      },
      "execution_count": 288,
      "outputs": [
        {
          "output_type": "stream",
          "name": "stdout",
          "text": [
            "root\n",
            " |-- id: string (nullable = true)\n",
            " |-- tipo_anuncio: string (nullable = true)\n",
            " |-- tipo_unidade: string (nullable = true)\n",
            " |-- tipo_uso: string (nullable = true)\n",
            " |-- area_total: long (nullable = true)\n",
            " |-- area_util: double (nullable = true)\n",
            " |-- quartos: integer (nullable = true)\n",
            " |-- suites: integer (nullable = true)\n",
            " |-- banheiros: integer (nullable = true)\n",
            " |-- vaga: long (nullable = true)\n",
            " |-- andar: integer (nullable = true)\n",
            " |-- caracteristicas: array (nullable = true)\n",
            " |    |-- element: string (containsNull = true)\n",
            " |-- bairro: string (nullable = true)\n",
            " |-- zona: string (nullable = true)\n",
            " |-- condominio: double (nullable = true)\n",
            " |-- iptu: double (nullable = true)\n",
            " |-- tipo: string (nullable = true)\n",
            " |-- valor: double (nullable = true)\n",
            "\n"
          ]
        }
      ]
    },
    {
      "cell_type": "markdown",
      "source": [
        "- Nos foi passada a informação de que alguns registros da coluna \"caractersticas\" são listas vazias. Devemos, portanto, eliminar esses registros do nosso conjunto de dados\n",
        "  - A ideia será usar o método \".getItem(0)\" para verificar quais registros têm esse primeiro valor nulo. Se ele for nulo, que dizer que a lista da linha correspondente é vazia\n"
      ],
      "metadata": {
        "id": "HTG70JX7Wclp"
      }
    },
    {
      "cell_type": "code",
      "source": [
        "# contando quantos elementos contém listas vazias na coluna de características\n",
        "df.select('*').where(f.isnull( f.col('caracteristicas').getItem(0) )).count()"
      ],
      "metadata": {
        "colab": {
          "base_uri": "https://localhost:8080/"
        },
        "id": "YrTVSAzGVwFW",
        "outputId": "61290ccd-9d7e-4b6c-ae92-15fe77f4e1ae"
      },
      "execution_count": 289,
      "outputs": [
        {
          "output_type": "execute_result",
          "data": {
            "text/plain": [
              "12665"
            ]
          },
          "metadata": {},
          "execution_count": 289
        }
      ]
    },
    {
      "cell_type": "markdown",
      "source": [
        "- Como são muitos dados (~10 000, mesma ordem de grandeza da quantidade total de registros) não podemos simplesmente descartá-los do nosso dataset; as demais colunas associadas a essas linhas podem conter informações relevantes para a construção posterior dos modelos de regressão.\n",
        "- Para contornar esse problema, portanto, ajusto todas essas colunas com valor nulo (null)"
      ],
      "metadata": {
        "id": "U6Dwn-DR21vU"
      }
    },
    {
      "cell_type": "code",
      "source": [
        "# outra maneira de detectar esses caras utilizando a função \"size\" do pyspark.sql\n",
        "df.select('*').filter( f.size( f.col('caracteristicas') ) == 0 ).count()"
      ],
      "metadata": {
        "colab": {
          "base_uri": "https://localhost:8080/"
        },
        "id": "xwNq9TOdbnvo",
        "outputId": "e47f49f9-5dac-49ad-db80-78b0e7cedca7"
      },
      "execution_count": 290,
      "outputs": [
        {
          "output_type": "execute_result",
          "data": {
            "text/plain": [
              "12665"
            ]
          },
          "metadata": {},
          "execution_count": 290
        }
      ]
    },
    {
      "cell_type": "code",
      "source": [
        "# verificação dos arrays vazios (antes do tratamento)\n",
        "df.select('caracteristicas').distinct().orderBy('caracteristicas', ascending=True).show(5)"
      ],
      "metadata": {
        "colab": {
          "base_uri": "https://localhost:8080/"
        },
        "id": "IA6agydSfNWU",
        "outputId": "c59b2aaf-cdf8-47ea-cff0-a88d824cabad"
      },
      "execution_count": 291,
      "outputs": [
        {
          "output_type": "stream",
          "name": "stdout",
          "text": [
            "+--------------------+\n",
            "|     caracteristicas|\n",
            "+--------------------+\n",
            "|                  []|\n",
            "|          [Academia]|\n",
            "|[Academia, Animai...|\n",
            "|[Academia, Animai...|\n",
            "|[Academia, Animai...|\n",
            "+--------------------+\n",
            "only showing top 5 rows\n",
            "\n"
          ]
        }
      ]
    },
    {
      "cell_type": "code",
      "source": [
        "# Faço a atualização desses dados utilizando o case when/else (f.when().otherwise, no caso do pyspark)\n",
        "\n",
        "# detalhes da logica abaixo: quando o \"len\" da coluna caracteristicas for 0 (i.e., quando o array do campo correspondente for nulo),\n",
        "# adicionamos o valor null (None para o dataframe spark no python); caso contrário, ajustamos o registro da própria coluna\n",
        "df = df.withColumn('caracteristicas', f.when( f.size( f.col('caracteristicas') ) == 0, None ).otherwise( f.col('caracteristicas') ) )\n",
        "\n",
        "# Poderíamos também estruturar esse mesmo update utilizando o método \"getIem(0)\" (verificando quando valor logo do primeiro index fosse nulo, o que \n",
        "# indicaria uma lista vazia)\n",
        "# (utilizo uma sintaxe diferente no no argumento de aplicação das funções de tratamento apenas por prática)\n",
        "#df = df.withColumn('caracteristicas', f.when( df['caracteristicas'].getItem(0).isNull(), None ).otherwise( df['caracteristicas'] ) )"
      ],
      "metadata": {
        "id": "Lp44CVoEcAJn"
      },
      "execution_count": 292,
      "outputs": []
    },
    {
      "cell_type": "code",
      "source": [
        "#teste = df.select('*')\n",
        "#teste = teste.withColumn('caracteristicas', f.when( f.col('caracteristicas').getItem(0).isNull(), 0 ).otherwise( f.col('caracteristicas') ) )\n",
        "\n",
        "# o método \"case when / else \" (when / otherwise, no pyspark) não funcionou pois estamos colocando dois tipos de dados diferentes como saída:\n",
        "# inteiro se a condição verificar verdadeira e array se a condição verificar falsa;\n",
        "# a lógica está correta mas o spark não consegue efetuar esse tratamento"
      ],
      "metadata": {
        "id": "T-Qiih2K3pjD"
      },
      "execution_count": 293,
      "outputs": []
    },
    {
      "cell_type": "code",
      "source": [
        "# validação da função de tratamento aplicada\n",
        "df.select('caracteristicas').distinct().orderBy('caracteristicas', ascending=True).show(5)"
      ],
      "metadata": {
        "colab": {
          "base_uri": "https://localhost:8080/"
        },
        "id": "dBiyszqgexdZ",
        "outputId": "430e0cb4-67c0-4f33-d22a-2251fee5c077"
      },
      "execution_count": 294,
      "outputs": [
        {
          "output_type": "stream",
          "name": "stdout",
          "text": [
            "+--------------------+\n",
            "|     caracteristicas|\n",
            "+--------------------+\n",
            "|                null|\n",
            "|          [Academia]|\n",
            "|[Academia, Animai...|\n",
            "|[Academia, Animai...|\n",
            "|[Academia, Animai...|\n",
            "+--------------------+\n",
            "only showing top 5 rows\n",
            "\n"
          ]
        }
      ]
    },
    {
      "cell_type": "markdown",
      "source": [
        "- Verifico a presença de registros nulos ao longo das colunas do nosso dataset e efetuo os tratamentos correspondentes"
      ],
      "metadata": {
        "id": "LstIwJIg6wKy"
      }
    },
    {
      "cell_type": "code",
      "source": [
        "array_columns_to_check = df.columns\n",
        "\n",
        "array_columns_to_check.remove('caracteristicas') \n",
        "# excluo a coluna de caracteristicas desse processo automatizado de contagem, mas sabemos já sabemos que ela contém um total de \n",
        "# 12 665 dados nulos (ajustes efetuados na célula anterior)\n",
        "\n",
        "df.select([ f.count( f.when( f.isnull(col) | f.isnan(col) , 1 ) ).alias(col) for col in array_columns_to_check ] ).show()"
      ],
      "metadata": {
        "colab": {
          "base_uri": "https://localhost:8080/"
        },
        "id": "IanbeMkUKVBD",
        "outputId": "8d593359-968f-4aea-e57c-35727b012e5c"
      },
      "execution_count": 295,
      "outputs": [
        {
          "output_type": "stream",
          "name": "stdout",
          "text": [
            "+---+------------+------------+--------+----------+---------+-------+------+---------+----+-----+------+----+----------+----+----+-----+\n",
            "| id|tipo_anuncio|tipo_unidade|tipo_uso|area_total|area_util|quartos|suites|banheiros|vaga|andar|bairro|zona|condominio|iptu|tipo|valor|\n",
            "+---+------------+------------+--------+----------+---------+-------+------+---------+----+-----+------+----+----------+----+----+-----+\n",
            "|  0|           0|           0|       0|      9186|        0|      0|  5544|        0|3008|    0|     0|   0|      2347|7155|   0|    0|\n",
            "+---+------------+------------+--------+----------+---------+-------+------+---------+----+-----+------+----+----------+----+----+-----+\n",
            "\n"
          ]
        }
      ]
    },
    {
      "cell_type": "code",
      "source": [
        "# verifico se a contagem anterior se refere somente aos dados null, ou se dados tipo nan contribuiram para o resultado final\n",
        "df.select( [f.count( f.when( f.isnull(c), 1 ) ).alias(c) for c in array_columns_to_check] ) .show()"
      ],
      "metadata": {
        "colab": {
          "base_uri": "https://localhost:8080/"
        },
        "id": "yqdKD9MxJXOz",
        "outputId": "b051f505-c3c9-41b1-da4a-6979994a4dc2"
      },
      "execution_count": 296,
      "outputs": [
        {
          "output_type": "stream",
          "name": "stdout",
          "text": [
            "+---+------------+------------+--------+----------+---------+-------+------+---------+----+-----+------+----+----------+----+----+-----+\n",
            "| id|tipo_anuncio|tipo_unidade|tipo_uso|area_total|area_util|quartos|suites|banheiros|vaga|andar|bairro|zona|condominio|iptu|tipo|valor|\n",
            "+---+------------+------------+--------+----------+---------+-------+------+---------+----+-----+------+----+----------+----+----+-----+\n",
            "|  0|           0|           0|       0|      9186|        0|      0|  5544|        0|3008|    0|     0|   0|      2347|7155|   0|    0|\n",
            "+---+------------+------------+--------+----------+---------+-------+------+---------+----+-----+------+----+----------+----+----+-----+\n",
            "\n"
          ]
        }
      ]
    },
    {
      "cell_type": "code",
      "source": [
        "# preenchimento dos dados nulos com valores 0\n",
        "df = df.na.fill(0)"
      ],
      "metadata": {
        "id": "Oj4c5Q_AgmvV"
      },
      "execution_count": 297,
      "outputs": []
    },
    {
      "cell_type": "code",
      "source": [
        "# efetuo novamente a contagem por fins de validação\n",
        "df.select( [f.count( f.when( f.isnull(c), 1 ) ).alias(c) for c in array_columns_to_check] ) .show()"
      ],
      "metadata": {
        "colab": {
          "base_uri": "https://localhost:8080/"
        },
        "id": "pQayOao6gmr6",
        "outputId": "48010c66-0afd-41ba-f054-eb068f08f71e"
      },
      "execution_count": 298,
      "outputs": [
        {
          "output_type": "stream",
          "name": "stdout",
          "text": [
            "+---+------------+------------+--------+----------+---------+-------+------+---------+----+-----+------+----+----------+----+----+-----+\n",
            "| id|tipo_anuncio|tipo_unidade|tipo_uso|area_total|area_util|quartos|suites|banheiros|vaga|andar|bairro|zona|condominio|iptu|tipo|valor|\n",
            "+---+------------+------------+--------+----------+---------+-------+------+---------+----+-----+------+----+----------+----+----+-----+\n",
            "|  0|           0|           0|       0|         0|        0|      0|     0|        0|   0|    0|     0|   0|         0|   0|   0|    0|\n",
            "+---+------------+------------+--------+----------+---------+-------+------+---------+----+-----+------+----+----------+----+----+-----+\n",
            "\n"
          ]
        }
      ]
    },
    {
      "cell_type": "code",
      "source": [
        "# verifico se os registros da coluna de caracteristicas foram corrigidos\n",
        "df.select('caracteristicas').distinct().orderBy('caracteristicas', ascending=True).show(5)"
      ],
      "metadata": {
        "colab": {
          "base_uri": "https://localhost:8080/"
        },
        "id": "EPFc08JygyAa",
        "outputId": "0a8b896a-3ccf-4c7b-984c-9a5d8f518807"
      },
      "execution_count": 299,
      "outputs": [
        {
          "output_type": "stream",
          "name": "stdout",
          "text": [
            "+--------------------+\n",
            "|     caracteristicas|\n",
            "+--------------------+\n",
            "|                null|\n",
            "|          [Academia]|\n",
            "|[Academia, Animai...|\n",
            "|[Academia, Animai...|\n",
            "|[Academia, Animai...|\n",
            "+--------------------+\n",
            "only showing top 5 rows\n",
            "\n"
          ]
        }
      ]
    },
    {
      "cell_type": "markdown",
      "source": [
        "- Ao que podemos ver os registros nulos da coluna de caracteristicas não estão sendo corrigidos pelas nossas ferramentas usuais. Por enquanto isso não é um problema, pois a nossa ideia será quebrar os registros desses arrays em dummy variables no momento em que estivermos preparando o dataset para construção do modelo de regressão."
      ],
      "metadata": {
        "id": "DK45FrP3hTbR"
      }
    },
    {
      "cell_type": "code",
      "source": [
        "df.select('zona').distinct().collect()"
      ],
      "metadata": {
        "colab": {
          "base_uri": "https://localhost:8080/"
        },
        "id": "FyYNtRwlcYX4",
        "outputId": "5e3269e6-1e2f-41f3-ea6c-95955c43b2e7"
      },
      "execution_count": 300,
      "outputs": [
        {
          "output_type": "execute_result",
          "data": {
            "text/plain": [
              "[Row(zona='Zona Norte'),\n",
              " Row(zona='Zona Oeste'),\n",
              " Row(zona='Zona Central'),\n",
              " Row(zona='Zona Sul'),\n",
              " Row(zona='')]"
            ]
          },
          "metadata": {},
          "execution_count": 300
        }
      ]
    },
    {
      "cell_type": "code",
      "source": [
        "# começo criando as dummy variables para a coluna de zonas\n",
        "df_zona = df\\\n",
        "            .groupBy('id')\\\n",
        "            .pivot('zona')\\\n",
        "            .agg(f.lit(1))\\\n",
        "            .na\\\n",
        "            .fill(0)\n",
        "\n",
        "df_zona.show(5)\n"
      ],
      "metadata": {
        "id": "k-ty7Eau0gnM",
        "colab": {
          "base_uri": "https://localhost:8080/"
        },
        "outputId": "7d127bb4-6d21-4bd8-bb7b-ecb0f4689039"
      },
      "execution_count": 301,
      "outputs": [
        {
          "output_type": "stream",
          "name": "stdout",
          "text": [
            "+--------------------+---+------------+----------+----------+--------+\n",
            "|                  id|   |Zona Central|Zona Norte|Zona Oeste|Zona Sul|\n",
            "+--------------------+---+------------+----------+----------+--------+\n",
            "|4e47e4d4-3326-4eb...|  0|           0|         0|         0|       1|\n",
            "|02fba6ef-a691-442...|  0|           0|         0|         1|       0|\n",
            "|fc03c1a9-8bbb-41a...|  0|           0|         1|         0|       0|\n",
            "|3dd5d200-0a7f-43d...|  0|           0|         0|         0|       1|\n",
            "|82707939-71bd-40c...|  0|           0|         0|         0|       1|\n",
            "+--------------------+---+------------+----------+----------+--------+\n",
            "only showing top 5 rows\n",
            "\n"
          ]
        }
      ]
    },
    {
      "cell_type": "code",
      "source": [
        "df_zona = df_zona.drop('')\n",
        "# o método \".drop\" está sendo incluído para excluir uma coluna vazia que está sendo criada, correspondente a uma zona registrada como \" '' \"\n",
        "\n",
        "df_zona.show(5)"
      ],
      "metadata": {
        "colab": {
          "base_uri": "https://localhost:8080/"
        },
        "id": "uCXgQQKAcyKi",
        "outputId": "210218bf-dfbe-4d2d-9537-4f8701daac0f"
      },
      "execution_count": 302,
      "outputs": [
        {
          "output_type": "stream",
          "name": "stdout",
          "text": [
            "+--------------------+------------+----------+----------+--------+\n",
            "|                  id|Zona Central|Zona Norte|Zona Oeste|Zona Sul|\n",
            "+--------------------+------------+----------+----------+--------+\n",
            "|4e47e4d4-3326-4eb...|           0|         0|         0|       1|\n",
            "|02fba6ef-a691-442...|           0|         0|         1|       0|\n",
            "|fc03c1a9-8bbb-41a...|           0|         1|         0|       0|\n",
            "|3dd5d200-0a7f-43d...|           0|         0|         0|       1|\n",
            "|82707939-71bd-40c...|           0|         0|         0|       1|\n",
            "+--------------------+------------+----------+----------+--------+\n",
            "only showing top 5 rows\n",
            "\n"
          ]
        }
      ]
    },
    {
      "cell_type": "markdown",
      "source": [
        "- Agora que o dataframe auxiliar de dummy variables correspondente à coluna \"zona\" está feito, desenvolvo um tratamento da coluna \"características\" (formato array)"
      ],
      "metadata": {
        "id": "shKES-WAdFtG"
      }
    },
    {
      "cell_type": "code",
      "source": [
        "# defino um dataframe auxiliar incluindo somente as colunas que vamos trabalhar, com a finalidade de não sujar o nosso dataframe original\n",
        "df_aux = df\\\n",
        "            .select('id', 'caracteristicas')\n",
        "\n",
        "# incluo uma nova coluna nesse dataframe utilizando o método \".explode()\", que basicamente funciona extraindo a os arrays da coluna de características\n",
        "# e colocando-os numa mesma coluna para cada id correspondente.\n",
        "\n",
        "# em outras palavras: se uma coluna com id \"x\" possuía inicialmente 5 valores dentro do array da coluna 'caracteristicas', então\n",
        "# serão criadas 5 novas linhas com o id \"x\", uma para cada valor dentro do array da coluna 'caracteristicas'.\n",
        "\n",
        "df_aux = df_aux.withColumn('caracteristicas_values', f.explode( f.col('caracteristicas') ))\n",
        "df_aux.show(n = 10, truncate=False)"
      ],
      "metadata": {
        "colab": {
          "base_uri": "https://localhost:8080/"
        },
        "id": "CtVIjalPdAuy",
        "outputId": "c6e622b7-2b88-4e62-8024-fdec4e58618c"
      },
      "execution_count": 303,
      "outputs": [
        {
          "output_type": "stream",
          "name": "stdout",
          "text": [
            "+------------------------------------+-------------------------------------------------------------------------------------------------------------------------------+----------------------+\n",
            "|id                                  |caracteristicas                                                                                                                |caracteristicas_values|\n",
            "+------------------------------------+-------------------------------------------------------------------------------------------------------------------------------+----------------------+\n",
            "|d2e3a3aa-09b5-45a0-9dcd-918847cd3ca3|[Academia, Churrasqueira, Playground, Salão de festas, Condomínio fechado, Portão eletrônico, Portaria 24h, Animais permitidos]|Academia              |\n",
            "|d2e3a3aa-09b5-45a0-9dcd-918847cd3ca3|[Academia, Churrasqueira, Playground, Salão de festas, Condomínio fechado, Portão eletrônico, Portaria 24h, Animais permitidos]|Churrasqueira         |\n",
            "|d2e3a3aa-09b5-45a0-9dcd-918847cd3ca3|[Academia, Churrasqueira, Playground, Salão de festas, Condomínio fechado, Portão eletrônico, Portaria 24h, Animais permitidos]|Playground            |\n",
            "|d2e3a3aa-09b5-45a0-9dcd-918847cd3ca3|[Academia, Churrasqueira, Playground, Salão de festas, Condomínio fechado, Portão eletrônico, Portaria 24h, Animais permitidos]|Salão de festas       |\n",
            "|d2e3a3aa-09b5-45a0-9dcd-918847cd3ca3|[Academia, Churrasqueira, Playground, Salão de festas, Condomínio fechado, Portão eletrônico, Portaria 24h, Animais permitidos]|Condomínio fechado    |\n",
            "|d2e3a3aa-09b5-45a0-9dcd-918847cd3ca3|[Academia, Churrasqueira, Playground, Salão de festas, Condomínio fechado, Portão eletrônico, Portaria 24h, Animais permitidos]|Portão eletrônico     |\n",
            "|d2e3a3aa-09b5-45a0-9dcd-918847cd3ca3|[Academia, Churrasqueira, Playground, Salão de festas, Condomínio fechado, Portão eletrônico, Portaria 24h, Animais permitidos]|Portaria 24h          |\n",
            "|d2e3a3aa-09b5-45a0-9dcd-918847cd3ca3|[Academia, Churrasqueira, Playground, Salão de festas, Condomínio fechado, Portão eletrônico, Portaria 24h, Animais permitidos]|Animais permitidos    |\n",
            "|085bab2c-87ad-452a-bd0f-8b1451509f84|[Churrasqueira, Playground, Salão de festas, Condomínio fechado, Portão eletrônico, Portaria 24h, Animais permitidos]          |Churrasqueira         |\n",
            "|085bab2c-87ad-452a-bd0f-8b1451509f84|[Churrasqueira, Playground, Salão de festas, Condomínio fechado, Portão eletrônico, Portaria 24h, Animais permitidos]          |Playground            |\n",
            "+------------------------------------+-------------------------------------------------------------------------------------------------------------------------------+----------------------+\n",
            "only showing top 10 rows\n",
            "\n"
          ]
        }
      ]
    },
    {
      "cell_type": "code",
      "source": [
        "# agora efetuo um pivot da nova coluna criada e defino um novo dataframe auxiliar\n",
        "df_caracteristicas = df_aux\\\n",
        "                          .groupBy('id')\\\n",
        "                          .pivot('caracteristicas_values')\\\n",
        "                          .agg(f.lit(1))\\\n",
        "                          .na\\\n",
        "                          .fill(0)\n",
        "\n",
        "df_caracteristicas.show(10)"
      ],
      "metadata": {
        "colab": {
          "base_uri": "https://localhost:8080/"
        },
        "id": "UTMe4YKremPD",
        "outputId": "b45ae0c5-8d93-41c2-bde5-ff7f3b95b718"
      },
      "execution_count": 304,
      "outputs": [
        {
          "output_type": "stream",
          "name": "stdout",
          "text": [
            "+--------------------+--------+------------------+-------------+------------------+--------+-------+----------+------------+-----------------+---------------+\n",
            "|                  id|Academia|Animais permitidos|Churrasqueira|Condomínio fechado|Elevador|Piscina|Playground|Portaria 24h|Portão eletrônico|Salão de festas|\n",
            "+--------------------+--------+------------------+-------------+------------------+--------+-------+----------+------------+-----------------+---------------+\n",
            "|fd96bbd5-d631-416...|       1|                 1|            1|                 1|       1|      1|         1|           1|                1|              1|\n",
            "|bfffedfe-99e7-4ae...|       0|                 1|            1|                 1|       1|      0|         1|           0|                1|              1|\n",
            "|fcb67af3-5601-415...|       1|                 1|            1|                 0|       0|      1|         1|           0|                0|              1|\n",
            "|afecddff-f4cc-4ab...|       1|                 1|            1|                 1|       1|      1|         1|           1|                1|              1|\n",
            "|1bbc40f3-4f5c-459...|       1|                 0|            0|                 1|       1|      1|         1|           1|                1|              1|\n",
            "|fd26aeb2-a7b3-4f8...|       1|                 1|            1|                 1|       1|      1|         1|           1|                1|              1|\n",
            "|10e9d118-dbad-43c...|       0|                 1|            1|                 1|       0|      1|         1|           1|                1|              1|\n",
            "|ca1e84d7-86c8-4b1...|       1|                 0|            1|                 1|       1|      1|         1|           1|                1|              1|\n",
            "|d9e139a5-e85d-4e1...|       1|                 1|            1|                 1|       1|      1|         1|           1|                1|              1|\n",
            "|156a1fa5-37ca-43d...|       1|                 0|            1|                 1|       1|      1|         1|           1|                1|              1|\n",
            "+--------------------+--------+------------------+-------------+------------------+--------+-------+----------+------------+-----------------+---------------+\n",
            "only showing top 10 rows\n",
            "\n"
          ]
        }
      ]
    },
    {
      "cell_type": "markdown",
      "source": [
        "- Uma vez feitos esses tratamentos, junto tudo no nosso dataset inicial"
      ],
      "metadata": {
        "id": "QtuH4JUCfibB"
      }
    },
    {
      "cell_type": "code",
      "source": [
        "df.count()"
      ],
      "metadata": {
        "colab": {
          "base_uri": "https://localhost:8080/"
        },
        "id": "GL_EpjWArQN8",
        "outputId": "fd6f64ab-1e4d-4d83-b4bc-3bfeda3c67f3"
      },
      "execution_count": 305,
      "outputs": [
        {
          "output_type": "execute_result",
          "data": {
            "text/plain": [
              "66348"
            ]
          },
          "metadata": {},
          "execution_count": 305
        }
      ]
    },
    {
      "cell_type": "code",
      "source": [
        "df = df.join(other= df_zona , on= 'id', how= 'inner')\n",
        "df = df.join(other= df_caracteristicas, on= 'id', how= 'inner')\n",
        "\n",
        "df.show(10)"
      ],
      "metadata": {
        "id": "yVf6dHS20NNc",
        "colab": {
          "base_uri": "https://localhost:8080/"
        },
        "outputId": "4047df79-2f18-4b28-fd0e-5552a642321e"
      },
      "execution_count": 306,
      "outputs": [
        {
          "output_type": "stream",
          "name": "stdout",
          "text": [
            "+--------------------+------------+------------+-----------+----------+---------+-------+------+---------+----+-----+--------------------+--------------------+----------+----------+------+-----+---------+------------+----------+----------+--------+--------+------------------+-------------+------------------+--------+-------+----------+------------+-----------------+---------------+\n",
            "|                  id|tipo_anuncio|tipo_unidade|   tipo_uso|area_total|area_util|quartos|suites|banheiros|vaga|andar|     caracteristicas|              bairro|      zona|condominio|  iptu| tipo|    valor|Zona Central|Zona Norte|Zona Oeste|Zona Sul|Academia|Animais permitidos|Churrasqueira|Condomínio fechado|Elevador|Piscina|Playground|Portaria 24h|Portão eletrônico|Salão de festas|\n",
            "+--------------------+------------+------------+-----------+----------+---------+-------+------+---------+----+-----+--------------------+--------------------+----------+----------+------+-----+---------+------------+----------+----------+--------+--------+------------------+-------------+------------------+--------+-------+----------+------------+-----------------+---------------+\n",
            "|00012605-9cae-45b...|       Usado| Apartamento|Residencial|       410|    410.0|      4|     1|        3|   1|    0|          [Elevador]|             Ipanema|  Zona Sul|    3300.0|5780.0|Venda|4600000.0|           0|         0|         0|       1|       0|                 0|            0|                 0|       1|      0|         0|           0|                0|              0|\n",
            "|0002dfaf-7735-481...|       Usado| Apartamento|Residencial|        50|     50.0|      1|     0|        1|   1|    1|[Elevador, Salão ...|         Vila Isabel|Zona Norte|     500.0| 600.0|Venda| 360000.0|           0|         1|         0|       0|       0|                 1|            0|                 0|       1|      0|         0|           0|                1|              1|\n",
            "|0003ce76-949d-484...|       Usado| Apartamento|Residencial|       148|    148.0|      4|     2|        4|   2|    0|[Churrasqueira, E...|         Jacarepaguá|Zona Oeste|       0.0|   0.0|Venda|1200000.0|           0|         0|         1|       0|       0|                 0|            1|                 0|       1|      1|         0|           0|                0|              0|\n",
            "|00064277-de4c-4a3...|       Usado| Apartamento|Residencial|       104|    104.0|      2|     0|        1|   0|    0|          [Elevador]|          Copacabana|  Zona Sul|    1010.0| 272.0|Venda| 750000.0|           0|         0|         0|       1|       0|                 0|            0|                 0|       1|      0|         0|           0|                0|              0|\n",
            "|000be8fe-2044-4ce...|       Usado| Apartamento|Residencial|        71|     71.0|      2|     0|        2|   1|    0|          [Elevador]|             Humaitá|  Zona Sul|    1312.0| 360.0|Venda|1025000.0|           0|         0|         0|       1|       0|                 0|            0|                 0|       1|      0|         0|           0|                0|              0|\n",
            "|000c1a63-e78c-437...|       Usado| Apartamento|Residencial|       115|    115.0|      3|     0|        2|   0|    3|[Elevador, Playgr...|          Copacabana|  Zona Sul|    1904.0|3831.0|Venda|1100000.0|           0|         0|         0|       1|       0|                 1|            0|                 1|       1|      0|         1|           1|                1|              1|\n",
            "|000ded8f-425e-435...|       Usado| Apartamento|Residencial|        65|     65.0|      2|     0|        1|   0|    0|[Elevador, Academ...|Recreio dos Bande...|Zona Oeste|       0.0|   0.0|Venda| 593036.0|           0|         0|         1|       0|       1|                 1|            1|                 1|       1|      1|         1|           1|                1|              1|\n",
            "|000e02d5-7ee3-4e1...|       Usado| Apartamento|Residencial|        74|     74.0|      2|     1|        2|   1|    1|[Churrasqueira, A...|     Barra da Tijuca|Zona Oeste|       1.0|   1.0|Venda|1031576.0|           0|         0|         1|       0|       1|                 1|            1|                 1|       1|      1|         1|           1|                1|              1|\n",
            "|0012887a-18e2-4c9...|       Usado| Apartamento|Residencial|       100|    100.0|      3|     1|        3|   0|    5|[Elevador, Portão...|          Copacabana|  Zona Sul|    2081.0| 240.0|Venda| 800000.0|           0|         0|         0|       1|       0|                 1|            0|                 0|       1|      0|         0|           0|                1|              0|\n",
            "|00189386-7a13-4f8...|       Usado| Apartamento|Residencial|         0|     70.0|      2|     1|        3|   2|    0|[Academia, Churra...|Recreio dos Bande...|Zona Oeste|    1003.0| 981.0|Venda| 497000.0|           0|         0|         1|       0|       1|                 0|            1|                 1|       0|      0|         0|           0|                0|              1|\n",
            "+--------------------+------------+------------+-----------+----------+---------+-------+------+---------+----+-----+--------------------+--------------------+----------+----------+------+-----+---------+------------+----------+----------+--------+--------+------------------+-------------+------------------+--------+-------+----------+------------+-----------------+---------------+\n",
            "only showing top 10 rows\n",
            "\n"
          ]
        }
      ]
    },
    {
      "cell_type": "code",
      "source": [
        "df.count()"
      ],
      "metadata": {
        "colab": {
          "base_uri": "https://localhost:8080/"
        },
        "id": "_lxe4oqZrRtw",
        "outputId": "a415a49b-87ba-4518-f4bc-eba1612c435c"
      },
      "execution_count": 307,
      "outputs": [
        {
          "output_type": "execute_result",
          "data": {
            "text/plain": [
              "53683"
            ]
          },
          "metadata": {},
          "execution_count": 307
        }
      ]
    },
    {
      "cell_type": "markdown",
      "source": [
        "- Podemos ver que estamos perdendo cerca de ~ 10 000 dados após os joins de cruzamento com os dataframes auxiliares criados. Isso está ocorrendo devido aos registros nulos que temos no nosso dataframe de caracteristicas. Como não há características para \"pivotar\", essas linhas são simplesmente apagadas do dataframe."
      ],
      "metadata": {
        "id": "4_n_mWAdluZw"
      }
    },
    {
      "cell_type": "code",
      "source": [
        "# uma maneira de testar essa hipótese, é contar a quantidade de registros antes e após a aplicação do argumento \"explode\" e pivot\n",
        "teste = spark.read.parquet(\n",
        "    '/content/my-drive/MyDrive/Formações Alura/DataScience/Challenge-2ed/dados-e-arquivos-tratados/dataset-tratado/parquet'\n",
        ")\n",
        "teste = teste.withColumn('caracteristicas', f.when( f.size( f.col('caracteristicas') ) == 0, None ).otherwise( f.col('caracteristicas') ) )\n",
        "\n",
        "\n",
        "qtd_total_inicial = teste.count()\n",
        "qtd_nulos_inicial = teste.filter( f.col('caracteristicas').isNull() ).count()\n",
        "\n",
        "# agora aplico os métodos explode/pivot na coluna da características\n",
        "# (a expectativa é que o explode ainda mantenha os registros nulos, mas que eles sumam durante a aplicação do pivot)\n",
        "teste = teste.withColumn('caracteristicas_values', f.explode( f.col('caracteristicas') ))\n",
        "\n",
        "qtd_nulos_logo_apos_explode = teste.filter( f.col('caracteristicas').isNull() ).count()\n",
        "\n",
        "teste_aux = teste.groupBy('id').pivot('caracteristicas_values').agg(f.lit(1)).na.fill(0)\n",
        "qtd_dados_tabela_pivot = teste_aux.count()\n",
        "\n",
        "teste = teste.join(other= teste_aux, on= 'id', how= 'inner')\n",
        "qtd_total_final = teste.count()\n",
        "qtd_nulos_final = teste.filter( f.col('caracteristicas').isNull() ).count()\n",
        "\n",
        "print('Quantidade inicial total de dados no dataset: {}'.format(qtd_total_inicial))\n",
        "print('Quantidade inicial de nulos (\"caracteristicas\") no dataset: {}'.format(qtd_nulos_inicial))\n",
        "print('Quantidade de nulos (\"caracteristicas\") após o método \"explode\": {}'.format(qtd_nulos_logo_apos_explode))\n",
        "print('Quantidade total de dados na tabela pivot: {}'.format(qtd_dados_tabela_pivot))\n",
        "print('Quantidade total de dados após o join: {}'.format(qtd_total_final))\n",
        "print('Quantidade total de nulos (\"caracteristicas\") após o join: {}'.format(qtd_nulos_final))"
      ],
      "metadata": {
        "colab": {
          "base_uri": "https://localhost:8080/"
        },
        "id": "a2l_TOfArom0",
        "outputId": "9ff44a32-fb79-473e-de3e-004020ebe9b1"
      },
      "execution_count": 308,
      "outputs": [
        {
          "output_type": "stream",
          "name": "stdout",
          "text": [
            "Quantidade inicial total de dados no dataset: 66348\n",
            "Quantidade inicial de nulos (\"caracteristicas\") no dataset: 12665\n",
            "Quantidade de nulos (\"caracteristicas\") após o método \"explode\": 0\n",
            "Quantidade total de dados na tabela pivot: 53683\n",
            "Quantidade total de dados após o join: 325879\n",
            "Quantidade total de nulos (\"caracteristicas\") após o join: 0\n"
          ]
        }
      ]
    },
    {
      "cell_type": "markdown",
      "source": [
        "- Depois de efetuados esses tratamentos, começo o processo de seleção / definição das features que serão aplicadas no modelo. \n",
        "  - As colunas \"tipo_anuncio\", \"tipo_unidade\", \"tipo_uso\" e \"tipo\" possuem apenas um único registro, pois já efetuamos filtros dos valores dessas colunas nos tratamentos iniciais da base de dados da semana 1. Elas podem ser descartadas (serão irrelevantes para o modelo)\n",
        "  - As colunas \"area_total\" e \"area_util\" são dois casos peculiares. A princípio o ideal seria selecionarmos todas as features de interesse e montar um mapa de calor de correlação. Mas essas duas colunas são claramente correlacionadas. Não faz sentido continuarmos carregando as duas. Apesar da forte correlação entre ambas e muitos dos registros incluídos na base serem iguais nessas duas colunas, muito provavelmente a \"area_total\" tem um impacto maior na definição do preço do imóvel. Isso precisaria ser discutido com as demais equipes do projeto (não caberia à equipe de Data Science e Analytics tomar essa decisão), mas pensemos por um momento: mesmo que a área útil de uma residência seja pequena, se o terreno for grande a expectativa é que, de fato, o valor do imóvel aumente.\n",
        "    - A conclusão, portanto, seria deixaremos de continuar carregando a coluna \"area_util\" e efetuaremos um filtro para excluir aqueles registros de \"area_total\" com valor 0. Entretanto essa coluna possui muitos valores 0, tal como pode ser observado a seguir. De fato, se retrocedermos o nosso código, veremos que ela foi uma das colunas atingidas pelo nosso método \".na.fill(0)\" para preenchimento de valores nulos. Por uma questão de ganho de informação e maior confiabilidade dos resultados, excluiremos a coluna \"area_total\" e seguiremos trabalhando somente com a coluna \"area_util\".\n",
        "\n",
        "- As informações da coluna \"características\" já foram ajustadas, então não há necessidade de continuar com essa coluna também, bem como as colunas \"zona\" e \"bairro\" (cujas informações já estão armazenadas nos campos de zona)\n",
        "\n",
        "- A coluna \"id\" também não será de grande relevância para a construção do nosso modelo"
      ],
      "metadata": {
        "id": "d0Mj_-OFjemz"
      }
    },
    {
      "cell_type": "code",
      "source": [
        "df.select('area_total', 'area_util', 'valor').limit(30).show()"
      ],
      "metadata": {
        "colab": {
          "base_uri": "https://localhost:8080/"
        },
        "id": "ScvxXxaNkmMW",
        "outputId": "4c8fcabb-fb31-48e1-897a-0ff295554c67"
      },
      "execution_count": 309,
      "outputs": [
        {
          "output_type": "stream",
          "name": "stdout",
          "text": [
            "+----------+---------+--------+\n",
            "|area_total|area_util|   valor|\n",
            "+----------+---------+--------+\n",
            "|        43|     43.0| 22999.0|\n",
            "|        47|     47.0|138000.0|\n",
            "|     17089|     45.0|140000.0|\n",
            "|        48|     48.0|150000.0|\n",
            "|         0|     55.0|160000.0|\n",
            "|        70|     70.0|159000.0|\n",
            "|        50|     48.0|170000.0|\n",
            "|        40|     40.0|189000.0|\n",
            "|        50|     50.0|185000.0|\n",
            "|        45|     45.0|199000.0|\n",
            "|        48|     48.0|205933.0|\n",
            "|        44|     44.0|206000.0|\n",
            "|        55|     55.0|219130.0|\n",
            "|        60|     60.0|230000.0|\n",
            "|        51|     51.0|239000.0|\n",
            "|        50|     50.0|260000.0|\n",
            "|        96|     96.0|260000.0|\n",
            "|        48|     48.0|251800.0|\n",
            "|        55|     55.0|260000.0|\n",
            "|        48|     48.0|270000.0|\n",
            "+----------+---------+--------+\n",
            "only showing top 20 rows\n",
            "\n"
          ]
        }
      ]
    },
    {
      "cell_type": "code",
      "source": [
        "# então, aplico os drops das colunas irrelevantes para os nossos modelos\n",
        "df = df.drop('tipo_unidade', 'tipo_anuncio', 'tipo_uso', 'area_total', 'tipo', 'bairro', 'zona', 'caracteristicas', 'id')"
      ],
      "metadata": {
        "id": "WKnO48Z-jd_v"
      },
      "execution_count": 310,
      "outputs": []
    },
    {
      "cell_type": "code",
      "source": [
        "df.show(5)"
      ],
      "metadata": {
        "colab": {
          "base_uri": "https://localhost:8080/"
        },
        "id": "NPyAUKOq2QWv",
        "outputId": "91736199-24be-4463-c61b-b22c751eb8cf"
      },
      "execution_count": 311,
      "outputs": [
        {
          "output_type": "stream",
          "name": "stdout",
          "text": [
            "+---------+-------+------+---------+----+-----+----------+------+---------+------------+----------+----------+--------+--------+------------------+-------------+------------------+--------+-------+----------+------------+-----------------+---------------+\n",
            "|area_util|quartos|suites|banheiros|vaga|andar|condominio|  iptu|    valor|Zona Central|Zona Norte|Zona Oeste|Zona Sul|Academia|Animais permitidos|Churrasqueira|Condomínio fechado|Elevador|Piscina|Playground|Portaria 24h|Portão eletrônico|Salão de festas|\n",
            "+---------+-------+------+---------+----+-----+----------+------+---------+------------+----------+----------+--------+--------+------------------+-------------+------------------+--------+-------+----------+------------+-----------------+---------------+\n",
            "|    410.0|      4|     1|        3|   1|    0|    3300.0|5780.0|4600000.0|           0|         0|         0|       1|       0|                 0|            0|                 0|       1|      0|         0|           0|                0|              0|\n",
            "|     50.0|      1|     0|        1|   1|    1|     500.0| 600.0| 360000.0|           0|         1|         0|       0|       0|                 1|            0|                 0|       1|      0|         0|           0|                1|              1|\n",
            "|    148.0|      4|     2|        4|   2|    0|       0.0|   0.0|1200000.0|           0|         0|         1|       0|       0|                 0|            1|                 0|       1|      1|         0|           0|                0|              0|\n",
            "|    104.0|      2|     0|        1|   0|    0|    1010.0| 272.0| 750000.0|           0|         0|         0|       1|       0|                 0|            0|                 0|       1|      0|         0|           0|                0|              0|\n",
            "|     71.0|      2|     0|        2|   1|    0|    1312.0| 360.0|1025000.0|           0|         0|         0|       1|       0|                 0|            0|                 0|       1|      0|         0|           0|                0|              0|\n",
            "+---------+-------+------+---------+----+-----+----------+------+---------+------------+----------+----------+--------+--------+------------------+-------------+------------------+--------+-------+----------+------------+-----------------+---------------+\n",
            "only showing top 5 rows\n",
            "\n"
          ]
        }
      ]
    },
    {
      "cell_type": "code",
      "source": [
        "# Começo a definição das nossas features e a transformação do dataframe\n",
        "from pyspark.ml.feature import VectorAssembler\n",
        "\n",
        "X = [col for col in df.columns] # variáveis /features de interesse (colunas irrelevantes já removidas)\n",
        "vec_ass = VectorAssembler(inputCols= X, outputCol= 'features') # classe de assembling do vetor de features (transformadora; não precisa de fit)\n",
        "\n",
        "df = vec_ass.transform(df) # dataframe completo tratado\n",
        "df = df.withColumnRenamed('valor', 'label')\n",
        "\n",
        "df_ML = df.select('features', 'label') # dataframe contendo somente a coluna de features / labels (além do identificador id)"
      ],
      "metadata": {
        "id": "WRrlj1oq2wlS"
      },
      "execution_count": 312,
      "outputs": []
    },
    {
      "cell_type": "code",
      "source": [
        "df.show(10)"
      ],
      "metadata": {
        "colab": {
          "base_uri": "https://localhost:8080/"
        },
        "id": "cKvtdtoJ72xe",
        "outputId": "ee2dfe7e-f807-47cf-d6f3-5d3d4bb0d483"
      },
      "execution_count": 314,
      "outputs": [
        {
          "output_type": "stream",
          "name": "stdout",
          "text": [
            "+---------+-------+------+---------+----+-----+----------+------+---------+------------+----------+----------+--------+--------+------------------+-------------+------------------+--------+-------+----------+------------+-----------------+---------------+--------------------+\n",
            "|area_util|quartos|suites|banheiros|vaga|andar|condominio|  iptu|    label|Zona Central|Zona Norte|Zona Oeste|Zona Sul|Academia|Animais permitidos|Churrasqueira|Condomínio fechado|Elevador|Piscina|Playground|Portaria 24h|Portão eletrônico|Salão de festas|            features|\n",
            "+---------+-------+------+---------+----+-----+----------+------+---------+------------+----------+----------+--------+--------+------------------+-------------+------------------+--------+-------+----------+------------+-----------------+---------------+--------------------+\n",
            "|    410.0|      4|     1|        3|   1|    0|    3300.0|5780.0|4600000.0|           0|         0|         0|       1|       0|                 0|            0|                 0|       1|      0|         0|           0|                0|              0|(23,[0,1,2,3,4,6,...|\n",
            "|     50.0|      1|     0|        1|   1|    1|     500.0| 600.0| 360000.0|           0|         1|         0|       0|       0|                 1|            0|                 0|       1|      0|         0|           0|                1|              1|(23,[0,1,3,4,5,6,...|\n",
            "|    148.0|      4|     2|        4|   2|    0|       0.0|   0.0|1200000.0|           0|         0|         1|       0|       0|                 0|            1|                 0|       1|      1|         0|           0|                0|              0|(23,[0,1,2,3,4,8,...|\n",
            "|    104.0|      2|     0|        1|   0|    0|    1010.0| 272.0| 750000.0|           0|         0|         0|       1|       0|                 0|            0|                 0|       1|      0|         0|           0|                0|              0|(23,[0,1,3,6,7,8,...|\n",
            "|     71.0|      2|     0|        2|   1|    0|    1312.0| 360.0|1025000.0|           0|         0|         0|       1|       0|                 0|            0|                 0|       1|      0|         0|           0|                0|              0|(23,[0,1,3,4,6,7,...|\n",
            "|    115.0|      3|     0|        2|   0|    3|    1904.0|3831.0|1100000.0|           0|         0|         0|       1|       0|                 1|            0|                 1|       1|      0|         1|           1|                1|              1|[115.0,3.0,0.0,2....|\n",
            "|     65.0|      2|     0|        1|   0|    0|       0.0|   0.0| 593036.0|           0|         0|         1|       0|       1|                 1|            1|                 1|       1|      1|         1|           1|                1|              1|[65.0,2.0,0.0,1.0...|\n",
            "|     74.0|      2|     1|        2|   1|    1|       1.0|   1.0|1031576.0|           0|         0|         1|       0|       1|                 1|            1|                 1|       1|      1|         1|           1|                1|              1|[74.0,2.0,1.0,2.0...|\n",
            "|    100.0|      3|     1|        3|   0|    5|    2081.0| 240.0| 800000.0|           0|         0|         0|       1|       0|                 1|            0|                 0|       1|      0|         0|           0|                1|              0|(23,[0,1,2,3,5,6,...|\n",
            "|     70.0|      2|     1|        3|   2|    0|    1003.0| 981.0| 497000.0|           0|         0|         1|       0|       1|                 0|            1|                 1|       0|      0|         0|           0|                0|              1|(23,[0,1,2,3,4,6,...|\n",
            "+---------+-------+------+---------+----+-----+----------+------+---------+------------+----------+----------+--------+--------+------------------+-------------+------------------+--------+-------+----------+------------+-----------------+---------------+--------------------+\n",
            "only showing top 10 rows\n",
            "\n"
          ]
        }
      ]
    },
    {
      "cell_type": "code",
      "source": [
        "df_ML.show(10)"
      ],
      "metadata": {
        "colab": {
          "base_uri": "https://localhost:8080/"
        },
        "id": "9wGbKjs575CB",
        "outputId": "dc5d2c7d-c4f3-4a2a-8897-1baaed554f45"
      },
      "execution_count": 315,
      "outputs": [
        {
          "output_type": "stream",
          "name": "stdout",
          "text": [
            "+--------------------+---------+\n",
            "|            features|    label|\n",
            "+--------------------+---------+\n",
            "|(23,[0,1,2,3,4,6,...|4600000.0|\n",
            "|(23,[0,1,3,4,5,6,...| 360000.0|\n",
            "|(23,[0,1,2,3,4,8,...|1200000.0|\n",
            "|(23,[0,1,3,6,7,8,...| 750000.0|\n",
            "|(23,[0,1,3,4,6,7,...|1025000.0|\n",
            "|[115.0,3.0,0.0,2....|1100000.0|\n",
            "|[65.0,2.0,0.0,1.0...| 593036.0|\n",
            "|[74.0,2.0,1.0,2.0...|1031576.0|\n",
            "|(23,[0,1,2,3,5,6,...| 800000.0|\n",
            "|(23,[0,1,2,3,4,6,...| 497000.0|\n",
            "+--------------------+---------+\n",
            "only showing top 10 rows\n",
            "\n"
          ]
        }
      ]
    },
    {
      "cell_type": "code",
      "source": [
        "# depois de todos os tratamentos efetuados anteriormente são essenciais para aplicação em treino/teste nos modelos de ML.\n",
        "# para dinamizar e facilitar os processos futuros, salvo essa base e deixo guardada para quando mais for necessário\n",
        "\n",
        "df.write.parquet(\n",
        "    '/content/my-drive/MyDrive/Formações Alura/DataScience/Challenge-2ed/dados-e-arquivos-tratados/dataset_tratado_para_ML_parquet',\n",
        "    mode = 'overwrite'\n",
        ")"
      ],
      "metadata": {
        "id": "S6Q9JuTugdC8"
      },
      "execution_count": 313,
      "outputs": []
    },
    {
      "cell_type": "markdown",
      "source": [
        "## Construindo e estudando os modelos de Machine Learning\n",
        "- Nessa seção estudaremos os 3 principais tipos de modelos de regressão para bases de dados tratadas (Regressão Linear, Árvore de Decisão e Random Forest) com a finalidade de verificar qual deles melhor se adequa à nossa base de dados"
      ],
      "metadata": {
        "id": "0qMFbowbhnAb"
      }
    },
    {
      "cell_type": "markdown",
      "source": [
        "### 1) Regressão Linear"
      ],
      "metadata": {
        "id": "NDfVnp3HjJpB"
      }
    },
    {
      "cell_type": "markdown",
      "source": [
        "### 2) Árvore de Decisão"
      ],
      "metadata": {
        "id": "N3lfkMrVjL0G"
      }
    },
    {
      "cell_type": "markdown",
      "source": [
        "### 3) Random Forest"
      ],
      "metadata": {
        "id": "hvToCK21jOnL"
      }
    },
    {
      "cell_type": "markdown",
      "source": [
        "### 4) Definição do melhor modelo e implementação de otimização"
      ],
      "metadata": {
        "id": "TdkOdTKVjQSb"
      }
    },
    {
      "cell_type": "code",
      "source": [],
      "metadata": {
        "id": "qXtFBVmMhpz9"
      },
      "execution_count": 102,
      "outputs": []
    }
  ]
}